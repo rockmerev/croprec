{
 "cells": [
  {
   "cell_type": "code",
   "execution_count": 596,
   "id": "f4f564f3",
   "metadata": {},
   "outputs": [],
   "source": [
    "import numpy as np\n",
    "import pandas as pd\n",
    "from sklearn.model_selection import train_test_split\n",
    "from sklearn.preprocessing import StandardScaler\n",
    "from sklearn.metrics import accuracy_score, precision_score, recall_score, f1_score, confusion_matrix\n",
    "from sklearn.linear_model import LogisticRegression\n",
    "from sklearn.tree import DecisionTreeClassifier\n",
    "from sklearn.ensemble import RandomForestClassifier, GradientBoostingClassifier\n",
    "from sklearn.naive_bayes import GaussianNB\n",
    "from sklearn.svm import SVC\n",
    "from sklearn.neighbors import KNeighborsClassifier\n",
    "import seaborn as sns\n",
    "import matplotlib.pyplot as plt"
   ]
  },
  {
   "cell_type": "code",
   "execution_count": 597,
   "id": "2b6a554f",
   "metadata": {},
   "outputs": [
    {
     "data": {
      "text/html": [
       "<div>\n",
       "<style scoped>\n",
       "    .dataframe tbody tr th:only-of-type {\n",
       "        vertical-align: middle;\n",
       "    }\n",
       "\n",
       "    .dataframe tbody tr th {\n",
       "        vertical-align: top;\n",
       "    }\n",
       "\n",
       "    .dataframe thead th {\n",
       "        text-align: right;\n",
       "    }\n",
       "</style>\n",
       "<table border=\"1\" class=\"dataframe\">\n",
       "  <thead>\n",
       "    <tr style=\"text-align: right;\">\n",
       "      <th></th>\n",
       "      <th>N</th>\n",
       "      <th>P</th>\n",
       "      <th>K</th>\n",
       "      <th>temperature</th>\n",
       "      <th>humidity</th>\n",
       "      <th>ph</th>\n",
       "      <th>rainfall</th>\n",
       "      <th>label</th>\n",
       "    </tr>\n",
       "  </thead>\n",
       "  <tbody>\n",
       "    <tr>\n",
       "      <th>0</th>\n",
       "      <td>90</td>\n",
       "      <td>42</td>\n",
       "      <td>43</td>\n",
       "      <td>20.879744</td>\n",
       "      <td>82.002744</td>\n",
       "      <td>6.502985</td>\n",
       "      <td>202.935536</td>\n",
       "      <td>rice</td>\n",
       "    </tr>\n",
       "    <tr>\n",
       "      <th>1</th>\n",
       "      <td>85</td>\n",
       "      <td>58</td>\n",
       "      <td>41</td>\n",
       "      <td>21.770462</td>\n",
       "      <td>80.319644</td>\n",
       "      <td>7.038096</td>\n",
       "      <td>226.655537</td>\n",
       "      <td>rice</td>\n",
       "    </tr>\n",
       "    <tr>\n",
       "      <th>2</th>\n",
       "      <td>60</td>\n",
       "      <td>55</td>\n",
       "      <td>44</td>\n",
       "      <td>23.004459</td>\n",
       "      <td>82.320763</td>\n",
       "      <td>7.840207</td>\n",
       "      <td>263.964248</td>\n",
       "      <td>rice</td>\n",
       "    </tr>\n",
       "    <tr>\n",
       "      <th>3</th>\n",
       "      <td>74</td>\n",
       "      <td>35</td>\n",
       "      <td>40</td>\n",
       "      <td>26.491096</td>\n",
       "      <td>80.158363</td>\n",
       "      <td>6.980401</td>\n",
       "      <td>242.864034</td>\n",
       "      <td>rice</td>\n",
       "    </tr>\n",
       "    <tr>\n",
       "      <th>4</th>\n",
       "      <td>78</td>\n",
       "      <td>42</td>\n",
       "      <td>42</td>\n",
       "      <td>20.130175</td>\n",
       "      <td>81.604873</td>\n",
       "      <td>7.628473</td>\n",
       "      <td>262.717340</td>\n",
       "      <td>rice</td>\n",
       "    </tr>\n",
       "  </tbody>\n",
       "</table>\n",
       "</div>"
      ],
      "text/plain": [
       "    N   P   K  temperature   humidity        ph    rainfall label\n",
       "0  90  42  43    20.879744  82.002744  6.502985  202.935536  rice\n",
       "1  85  58  41    21.770462  80.319644  7.038096  226.655537  rice\n",
       "2  60  55  44    23.004459  82.320763  7.840207  263.964248  rice\n",
       "3  74  35  40    26.491096  80.158363  6.980401  242.864034  rice\n",
       "4  78  42  42    20.130175  81.604873  7.628473  262.717340  rice"
      ]
     },
     "execution_count": 597,
     "metadata": {},
     "output_type": "execute_result"
    }
   ],
   "source": [
    "crop = pd.read_csv(\"Crop_recommendation.csv\")\n",
    "crop.head()"
   ]
  },
  {
   "cell_type": "code",
   "execution_count": 598,
   "id": "1110239f",
   "metadata": {},
   "outputs": [
    {
     "name": "stdout",
     "output_type": "stream",
     "text": [
      "N              0\n",
      "P              0\n",
      "K              0\n",
      "temperature    0\n",
      "humidity       0\n",
      "ph             0\n",
      "rainfall       0\n",
      "label          0\n",
      "dtype: int64\n",
      "0\n"
     ]
    }
   ],
   "source": [
    "print(crop.isnull().sum())\n",
    "print(crop.duplicated().sum())"
   ]
  },
  {
   "cell_type": "code",
   "execution_count": 599,
   "id": "81b43852",
   "metadata": {},
   "outputs": [],
   "source": [
    "crop_dict = {label: idx for idx, label in enumerate(crop['label'].unique())}\n",
    "crop['label_num'] = crop['label'].map(crop_dict)"
   ]
  },
  {
   "cell_type": "code",
   "execution_count": 600,
   "id": "37854502",
   "metadata": {},
   "outputs": [],
   "source": [
    "X = crop.drop(['label', 'label_num'], axis=1)\n",
    "y = crop['label_num']"
   ]
  },
  {
   "cell_type": "code",
   "execution_count": 601,
   "id": "fcc056a1",
   "metadata": {},
   "outputs": [],
   "source": [
    "scaler = StandardScaler()\n",
    "X_scaled = scaler.fit_transform(X)"
   ]
  },
  {
   "cell_type": "code",
   "execution_count": 602,
   "id": "e8f719cc",
   "metadata": {},
   "outputs": [],
   "source": [
    "X_train, X_test, y_train, y_test = train_test_split(X_scaled, y, test_size=0.2, random_state=42)"
   ]
  },
  {
   "cell_type": "code",
   "execution_count": 603,
   "id": "3b49b84c",
   "metadata": {},
   "outputs": [],
   "source": [
    "models = {\n",
    "    'Logistic Regression': LogisticRegression(max_iter=200),\n",
    "    'Decision Tree': DecisionTreeClassifier(),\n",
    "    'Random Forest': RandomForestClassifier(),\n",
    "    'Gradient Boosting': GradientBoostingClassifier(),\n",
    "    'Naive Bayes': GaussianNB(),\n",
    "    'Support Vector Machine': SVC(),\n",
    "    'K-Nearest Neighbors': KNeighborsClassifier()\n",
    "}"
   ]
  },
  {
   "cell_type": "markdown",
   "id": "70a48697",
   "metadata": {},
   "source": []
  },
  {
   "cell_type": "code",
   "execution_count": 604,
   "id": "176ce4ec",
   "metadata": {},
   "outputs": [
    {
     "name": "stderr",
     "output_type": "stream",
     "text": [
      "C:\\Users\\revan\\AppData\\Local\\Packages\\PythonSoftwareFoundation.Python.3.11_qbz5n2kfra8p0\\LocalCache\\local-packages\\Python311\\site-packages\\sklearn\\metrics\\_classification.py:1565: UndefinedMetricWarning: Precision is ill-defined and being set to 0.0 in labels with no predicted samples. Use `zero_division` parameter to control this behavior.\n",
      "  _warn_prf(average, modifier, f\"{metric.capitalize()} is\", len(result))\n",
      "C:\\Users\\revan\\AppData\\Local\\Packages\\PythonSoftwareFoundation.Python.3.11_qbz5n2kfra8p0\\LocalCache\\local-packages\\Python311\\site-packages\\sklearn\\metrics\\_classification.py:1565: UndefinedMetricWarning: Precision is ill-defined and being set to 0.0 in labels with no predicted samples. Use `zero_division` parameter to control this behavior.\n",
      "  _warn_prf(average, modifier, f\"{metric.capitalize()} is\", len(result))\n"
     ]
    },
    {
     "data": {
      "text/html": [
       "<div>\n",
       "<style scoped>\n",
       "    .dataframe tbody tr th:only-of-type {\n",
       "        vertical-align: middle;\n",
       "    }\n",
       "\n",
       "    .dataframe tbody tr th {\n",
       "        vertical-align: top;\n",
       "    }\n",
       "\n",
       "    .dataframe thead th {\n",
       "        text-align: right;\n",
       "    }\n",
       "</style>\n",
       "<table border=\"1\" class=\"dataframe\">\n",
       "  <thead>\n",
       "    <tr style=\"text-align: right;\">\n",
       "      <th></th>\n",
       "      <th>Model</th>\n",
       "      <th>Accuracy</th>\n",
       "      <th>Precision</th>\n",
       "      <th>Recall</th>\n",
       "      <th>F1 Score</th>\n",
       "    </tr>\n",
       "  </thead>\n",
       "  <tbody>\n",
       "    <tr>\n",
       "      <th>0</th>\n",
       "      <td>Random Forest</td>\n",
       "      <td>0.990050</td>\n",
       "      <td>0.990292</td>\n",
       "      <td>0.990050</td>\n",
       "      <td>0.989948</td>\n",
       "    </tr>\n",
       "    <tr>\n",
       "      <th>1</th>\n",
       "      <td>Naive Bayes</td>\n",
       "      <td>0.990050</td>\n",
       "      <td>0.990292</td>\n",
       "      <td>0.990050</td>\n",
       "      <td>0.989948</td>\n",
       "    </tr>\n",
       "    <tr>\n",
       "      <th>2</th>\n",
       "      <td>Gradient Boosting</td>\n",
       "      <td>0.990050</td>\n",
       "      <td>0.990352</td>\n",
       "      <td>0.990050</td>\n",
       "      <td>0.990067</td>\n",
       "    </tr>\n",
       "    <tr>\n",
       "      <th>3</th>\n",
       "      <td>Decision Tree</td>\n",
       "      <td>0.977612</td>\n",
       "      <td>0.979401</td>\n",
       "      <td>0.977612</td>\n",
       "      <td>0.977019</td>\n",
       "    </tr>\n",
       "    <tr>\n",
       "      <th>4</th>\n",
       "      <td>K-Nearest Neighbors</td>\n",
       "      <td>0.965174</td>\n",
       "      <td>0.968589</td>\n",
       "      <td>0.965174</td>\n",
       "      <td>0.964925</td>\n",
       "    </tr>\n",
       "    <tr>\n",
       "      <th>5</th>\n",
       "      <td>Support Vector Machine</td>\n",
       "      <td>0.962687</td>\n",
       "      <td>0.961654</td>\n",
       "      <td>0.962687</td>\n",
       "      <td>0.960169</td>\n",
       "    </tr>\n",
       "    <tr>\n",
       "      <th>6</th>\n",
       "      <td>Logistic Regression</td>\n",
       "      <td>0.940299</td>\n",
       "      <td>0.938908</td>\n",
       "      <td>0.940299</td>\n",
       "      <td>0.938075</td>\n",
       "    </tr>\n",
       "  </tbody>\n",
       "</table>\n",
       "</div>"
      ],
      "text/plain": [
       "                    Model  Accuracy  Precision    Recall  F1 Score\n",
       "0           Random Forest  0.990050   0.990292  0.990050  0.989948\n",
       "1             Naive Bayes  0.990050   0.990292  0.990050  0.989948\n",
       "2       Gradient Boosting  0.990050   0.990352  0.990050  0.990067\n",
       "3           Decision Tree  0.977612   0.979401  0.977612  0.977019\n",
       "4     K-Nearest Neighbors  0.965174   0.968589  0.965174  0.964925\n",
       "5  Support Vector Machine  0.962687   0.961654  0.962687  0.960169\n",
       "6     Logistic Regression  0.940299   0.938908  0.940299  0.938075"
      ]
     },
     "execution_count": 604,
     "metadata": {},
     "output_type": "execute_result"
    }
   ],
   "source": [
    "model_performance = []\n",
    "for name,model in models.items():\n",
    "    model.fit(X_train, y_train)\n",
    "    y_pred = model.predict(X_test)\n",
    "    accuracy = accuracy_score(y_test, y_pred)\n",
    "    precision = precision_score(y_test, y_pred, average='weighted')\n",
    "    recall = recall_score(y_test, y_pred, average='weighted')\n",
    "    f1 = f1_score(y_test, y_pred, average='weighted')\n",
    "    model_performance.append({\n",
    "        'Model': name,\n",
    "        'Accuracy': accuracy,\n",
    "        'Precision': precision,\n",
    "        'Recall': recall,\n",
    "        'F1 Score': f1\n",
    "    })\n",
    "\n",
    "# Create DataFrame for performance comparison\n",
    "performance_df = pd.DataFrame(model_performance)\n",
    "performance_df = performance_df.sort_values(by='Accuracy', ascending=False)\n",
    "performance_df.reset_index(drop=True, inplace=True)\n",
    "performance_df"
   ]
  },
  {
   "cell_type": "code",
   "execution_count": 605,
   "id": "888d9d40",
   "metadata": {},
   "outputs": [
    {
     "name": "stdout",
     "output_type": "stream",
     "text": [
      "Best Model: Random Forest\n"
     ]
    }
   ],
   "source": [
    "best_model_name = performance_df.iloc[0]['Model']\n",
    "best_model = models[best_model_name]\n",
    "print(f\"Best Model: {best_model_name}\")"
   ]
  },
  {
   "cell_type": "code",
   "execution_count": 606,
   "id": "e2bd19bd",
   "metadata": {},
   "outputs": [],
   "source": [
    "y_pred_best = best_model.predict(X_test)\n",
    "conf_matrix = confusion_matrix(y_test, y_pred_best)"
   ]
  },
  {
   "cell_type": "code",
   "execution_count": 607,
   "id": "dd290163",
   "metadata": {},
   "outputs": [
    {
     "data": {
      "image/png": "[encoded data removed]",
      "text/plain": [
       "<Figure size 1000x800 with 2 Axes>"
      ]
     },
     "metadata": {},
     "output_type": "display_data"
    }
   ],
   "source": [
    "plt.figure(figsize=(10, 8))\n",
    "sns.heatmap(conf_matrix, annot=True, fmt='d', cmap='Blues', xticklabels=crop_dict.keys(), yticklabels=crop_dict.keys())\n",
    "plt.xlabel('Predicted')\n",
    "plt.ylabel('Actual')\n",
    "plt.title(f'Confusion Matrix for {best_model_name}')\n",
    "plt.show()"
   ]
  },
  {
   "cell_type": "code",
   "execution_count": 27,
   "id": "aff8bdff",
   "metadata": {},
   "outputs": [
    {
     "name": "stdout",
     "output_type": "stream",
     "text": [
      "MSE: 0.001610201180663589\n",
      "MAE: 0.031680669698516795\n",
      "R2 Score: 0.9999999999968465\n"
     ]
    }
   ],
   "source": [
    "from sklearn.linear_model import LogisticRegression\n",
    "from sklearn.metrics import mean_squared_error, mean_absolute_error, r2_score\n",
    "\n",
    "y_pred = model.predict(X_test)\n",
    "\n",
    "print(\"MSE:\", mean_squared_error(y_test, y_pred))\n",
    "print(\"MAE:\", mean_absolute_error(y_test, y_pred))\n",
    "print(\"R2 Score:\", r2_score(y_test, y_pred))\n"
   ]
  },
  {
   "cell_type": "code",
   "execution_count": 608,
   "id": "c721b2a7",
   "metadata": {},
   "outputs": [],
   "source": [
    "def recommend_crop(N, P, K, temperature, humidity, ph, rainfall):\n",
    "    input_features = np.array([[N, P, K, temperature, humidity, ph, rainfall]])\n",
    "    input_scaled = scaler.transform(input_features)\n",
    "    print(input_scaled)\n",
    "    prediction = best_model.predict(input_scaled)\n",
    "    crop_name = list(crop_dict.keys())[list(crop_dict.values()).index(prediction[0])]\n",
    "    return input_scaled"
   ]
  },
  {
   "cell_type": "code",
   "execution_count": 609,
   "id": "de370bcd",
   "metadata": {},
   "outputs": [
    {
     "name": "stdout",
     "output_type": "stream",
     "text": [
      "[[-0.73181956 -0.34400818 -0.51005056  1.63073823 -0.6553672   4.33230878\n",
      "   2.89496033]]\n",
      "Recommended Crop: [[-0.73181956 -0.34400818 -0.51005056  1.63073823 -0.6553672   4.33230878\n",
      "   2.89496033]]\n"
     ]
    },
    {
     "name": "stderr",
     "output_type": "stream",
     "text": [
      "C:\\Users\\revan\\AppData\\Local\\Packages\\PythonSoftwareFoundation.Python.3.11_qbz5n2kfra8p0\\LocalCache\\local-packages\\Python311\\site-packages\\sklearn\\utils\\validation.py:2739: UserWarning: X does not have valid feature names, but StandardScaler was fitted with feature names\n",
      "  warnings.warn(\n"
     ]
    }
   ],
   "source": [
    "recommended_crop = recommend_crop(23,45,23,34.12036889,56.18080728,9.908770059,250.3982055)\n",
    "print(f\"Recommended Crop: {recommended_crop}\")"
   ]
  },
  {
   "cell_type": "code",
   "execution_count": 610,
   "id": "8de38f3f",
   "metadata": {},
   "outputs": [],
   "source": [
    "import pickle\n",
    "with open('best_model.pkl', 'wb') as model_file:\n",
    "    pickle.dump(best_model, model_file)\n",
    "\n",
    "with open('scaler.pkl', 'wb') as scaler_file:\n",
    "    pickle.dump(scaler, scaler_file)"
   ]
  },
  {
   "cell_type": "code",
   "execution_count": 611,
   "id": "39ca759d",
   "metadata": {},
   "outputs": [],
   "source": [
    "from sklearn.metrics import mean_squared_error\n",
    "import joblib\n",
    "from sklearn.preprocessing import LabelEncoder\n",
    "from sklearn.ensemble import RandomForestRegressor"
   ]
  },
  {
   "cell_type": "code",
   "execution_count": 612,
   "id": "9d736c88",
   "metadata": {},
   "outputs": [],
   "source": [
    "df=pd.read_csv('yield.csv')"
   ]
  },
  {
   "cell_type": "code",
   "execution_count": 613,
   "id": "9d3e3b11",
   "metadata": {},
   "outputs": [],
   "source": [
    "df.columns = df.columns.str.strip()\n",
    "df.replace(\"\", pd.NA, inplace=True)\n",
    "df.dropna(subset=['Area', 'Production'], inplace=True)\n",
    "df = df[df['Production'] > 0]\n",
    "df = df[df['Area'] > 0]"
   ]
  },
  {
   "cell_type": "code",
   "execution_count": 614,
   "id": "e4829eba",
   "metadata": {},
   "outputs": [],
   "source": [
    "\n",
    "le_district = LabelEncoder()\n",
    "le_crop = LabelEncoder()\n",
    "df['District_Code'] = le_district.fit_transform(df['District_Name'])\n",
    "df['Crop_Code'] = le_crop.fit_transform(df['Crop'])\n",
    "X = df[['District_Code', 'Crop_Code']]\n",
    "df['pp']=df['Production']/df['Area']\n",
    "y = df['pp']\n",
    "df = pd.read_csv(\"yield.csv\")\n",
    "df.dropna(subset=['Area', 'Production'], inplace=True)"
   ]
  },
  {
   "cell_type": "code",
   "execution_count": 615,
   "id": "c4cd3121",
   "metadata": {},
   "outputs": [
    {
     "name": "stdout",
     "output_type": "stream",
     "text": [
      "Mean Squared Error: 918364.46\n"
     ]
    }
   ],
   "source": [
    "X_train, X_test, y_train, y_test = train_test_split(X, y, test_size=0.2, random_state=42)\n",
    "model = RandomForestRegressor(n_estimators=100, random_state=42)\n",
    "model.fit(X_train, y_train)\n",
    "y_pred = model.predict(X_test)\n",
    "print(f\"Mean Squared Error: {mean_squared_error(y_test, y_pred):.2f}\")"
   ]
  },
  {
   "cell_type": "code",
   "execution_count": 616,
   "id": "ee043012",
   "metadata": {},
   "outputs": [],
   "source": [
    "from sklearn.preprocessing import StandardScaler\n",
    "scaler1 = StandardScaler()\n",
    "scaler1.fit(X_train)\n",
    "# Save it\n",
    "with open('scaler1.pkl', 'wb') as f:\n",
    "    pickle.dump(scaler1, f)\n",
    "with open(\"yieldmodel.pkl\", \"wb\") as f:\n",
    "    pickle.dump(model, f)  # ✅ This is correct\n"
   ]
  },
  {
   "cell_type": "code",
   "execution_count": 617,
   "id": "1dc248f4",
   "metadata": {},
   "outputs": [],
   "source": [
    "def predict_yield(state, district, year, season, crop, area_input):\n",
    "    model = joblib.load(\"yieldmodel.pkl\")\n",
    "    le_state, le_district, le_season, le_crop = joblib.load(\"label_encoders.pkl\")\n",
    "\n",
    "    try:\n",
    "        district_code = le_district.transform([district])[0]\n",
    "        crop_code = le_crop.transform([crop])[0]\n",
    "    except ValueError as e:\n",
    "        return f\"Error: {e}\"\n",
    "\n",
    "    input_features = [[district_code,crop_code]]\n",
    "    predicted_production = model.predict(input_features)[0]\n",
    "\n",
    "    # Calculate yield = production / area\n",
    "    predicted_yield = predicted_production / area_input if area_input > 0 else 0\n",
    "    return {\n",
    "        \"Predicted Production (tonnes)\": round(predicted_production, 2),\n",
    "        \"Predicted Yield (tonnes/ha)\": round(predicted_yield, 2)\n",
    "    }"
   ]
  },
  {
   "cell_type": "code",
   "execution_count": 618,
   "id": "52ad7932",
   "metadata": {},
   "outputs": [],
   "source": [
    "with open('label.pkl','wb') as l:\n",
    "    pickle.dump(le_crop,l)\n",
    "with open('dist.pkl','wb') as dist:\n",
    "    pickle.dump(le_district,dist)"
   ]
  },
  {
   "cell_type": "code",
   "execution_count": null,
   "id": "fcdb37c3",
   "metadata": {},
   "outputs": [],
   "source": []
  },
  {
   "cell_type": "code",
   "execution_count": 619,
   "id": "14aef3d7",
   "metadata": {},
   "outputs": [
    {
     "name": "stdout",
     "output_type": "stream",
     "text": [
      "Type of yieldmodel: <class 'sklearn.ensemble._forest.RandomForestRegressor'>\n"
     ]
    }
   ],
   "source": [
    "print(f\"Type of yieldmodel: {type(model)}\")\n"
   ]
  },
  {
   "cell_type": "code",
   "execution_count": null,
   "id": "79b41d9f",
   "metadata": {},
   "outputs": [
    {
     "name": "stdout",
     "output_type": "stream",
     "text": [
      "\n",
      "Water Report for Karur:\n",
      "Water in Monsoon: 29972.6 units\n",
      "Water in Half-Yearly (Non-Monsoon): 3961.5600000000004 units\n",
      "Total Water Used: 30384.940000000002 units\n",
      "Total Water Available: 271.0400000000009 units\n"
     ]
    }
   ],
   "source": [
    "import pandas as pd\n",
    "\n",
    "# Load dataset\n",
    "df = pd.read_csv(\"tnrg.csv\")\n",
    "\n",
    "# Rename columns to clean names (as done before)\n",
    "df.columns = [\n",
    "    \"id\", \"serial_no\", \"district_name\", \"monsoon_recharge_rainfall\",\n",
    "    \"monsoon_recharge_other_sources\", \"non_monsoon_recharge_rainfall\",\n",
    "    \"non_monsoon_recharge_other_sources\", \"total_annual_recharge\",\n",
    "    \"total_natural_discharges\", \"annual_extractable_gw_resource\",\n",
    "    \"annual_extraction_irrigation\", \"annual_extraction_industrial\",\n",
    "    \"annual_extraction_domestic\", \"total_annual_extraction\",\n",
    "    \"gw_allocation_domestic_2025\", \"net_gw_availability_future\",\n",
    "    \"gw_extraction_stage_percent\"\n",
    "]\n",
    "\n",
    "# Function to get water data for a district\n",
    "def get_water_report(district):\n",
    "    record = df[df[\"district_name\"].str.lower() == district.lower()]\n",
    "    \n",
    "    if record.empty:\n",
    "        return f\"District '{district}' not found in dataset.\"\n",
    "    \n",
    "    record = record.iloc[0]  # Get the first matching row\n",
    "\n",
    "    # Water in Monsoon\n",
    "    monsoon_water = (\n",
    "        record[\"monsoon_recharge_rainfall\"] +\n",
    "        record[\"monsoon_recharge_other_sources\"]\n",
    "    )\n",
    "\n",
    "    # Water in Half-Yearly (Non-Monsoon)\n",
    "    non_monsoon_water = (\n",
    "        record[\"non_monsoon_recharge_rainfall\"] +\n",
    "        record[\"non_monsoon_recharge_other_sources\"]\n",
    "    )\n",
    "\n",
    "    # Total Water Used\n",
    "    total_used = (\n",
    "        record[\"annual_extraction_irrigation\"] +\n",
    "        record[\"annual_extraction_industrial\"] +\n",
    "        record[\"annual_extraction_domestic\"]\n",
    "    )\n",
    "\n",
    "    # Total Water Available = Recharge - Natural Discharges\n",
    "    total_available = record[\"total_annual_recharge\"] - record[\"total_natural_discharges\"]-total_used\n",
    "\n",
    "    # Print or return\n",
    "    return {\n",
    "        \"district\": record[\"district_name\"],\n",
    "        \"monsoon_water\": monsoon_water,\n",
    "        \"non_monsoon_water\": non_monsoon_water,\n",
    "        \"total_water_used\": total_used,\n",
    "        \"total_water_available\": total_available\n",
    "    }\n",
    "\n",
    "# Example usage\n",
    "district_input = input(\"Enter district name: \")\n",
    "report = get_water_report(district_input)\n",
    "\n",
    "if isinstance(report, dict):\n",
    "    print(f\"\\nWater Report for {report['district']}:\")\n",
    "    print(f\"Water in Monsoon: {report['monsoon_water']} million cubic metres\")\n",
    "    print(f\"Water in Half-Yearly (Non-Monsoon): {report['non_monsoon_water']} million cubic metres\")\n",
    "    print(f\"Total Water Used: {report['total_water_used']} million cubic metres\")\n",
    "    print(f\"Total Water Available: {report['total_water_available']} million cubic metres\")\n",
    "else:\n",
    "    print(report)\n"
   ]
  },
  {
   "cell_type": "code",
   "execution_count": 19,
   "id": "b649190e",
   "metadata": {},
   "outputs": [],
   "source": [
    "def debug_water_report(district):\n",
    "    record = df[df[\"district_name\"].str.capitalize() == district.capitalize()]\n",
    "    \n",
    "    if record.empty:\n",
    "        return f\"District '{district}' not found in dataset.\"\n",
    "    \n",
    "    record = record.iloc[0]\n",
    "\n",
    "    print(\"Monsoon Recharge from Rainfall:\", record[\"monsoon_recharge_rainfall\"])\n",
    "    print(\"Monsoon Recharge from Other Sources:\", record[\"monsoon_recharge_other_sources\"])\n",
    "    print(\"Non-Monsoon Recharge from Rainfall:\", record[\"non_monsoon_recharge_rainfall\"])\n",
    "    print(\"Non-Monsoon Recharge from Other Sources:\", record[\"non_monsoon_recharge_other_sources\"])\n",
    "    print(\"Total Annual Recharge:\", record[\"total_annual_recharge\"])\n",
    "    print(\"Total Natural Discharges:\", record[\"total_natural_discharges\"])\n",
    "    print(\"Irrigation:\", record[\"annual_extraction_irrigation\"])\n",
    "    print(\"Industrial:\", record[\"annual_extraction_industrial\"])\n",
    "    print(\"Domestic:\", record[\"annual_extraction_domestic\"])\n",
    "\n",
    "    # Then call the original report function\n",
    "    return get_water_report(district)\n"
   ]
  },
  {
   "cell_type": "code",
   "execution_count": 20,
   "id": "9a2a572b",
   "metadata": {},
   "outputs": [
    {
     "name": "stdout",
     "output_type": "stream",
     "text": [
      "Monsoon Recharge from Rainfall: 15860.02\n",
      "Monsoon Recharge from Other Sources: 18903.42\n",
      "Non-Monsoon Recharge from Rainfall: 2272.86\n",
      "Non-Monsoon Recharge from Other Sources: 2066.82\n",
      "Total Annual Recharge: 39103.12\n",
      "Total Natural Discharges: 3581.87\n",
      "Irrigation: 17284.99\n",
      "Industrial: 70.24\n",
      "Domestic: 1122.72\n"
     ]
    },
    {
     "data": {
      "text/plain": [
       "{'district': 'Ariyalur',\n",
       " 'monsoon_water': np.float64(34763.44),\n",
       " 'non_monsoon_water': np.float64(4339.68),\n",
       " 'total_water_used': np.float64(18477.950000000004),\n",
       " 'total_water_available': np.float64(35521.25)}"
      ]
     },
     "execution_count": 20,
     "metadata": {},
     "output_type": "execute_result"
    }
   ],
   "source": [
    "debug_water_report('Ariyalur')"
   ]
  },
  {
   "cell_type": "code",
   "execution_count": 10,
   "id": "febdd059",
   "metadata": {},
   "outputs": [
    {
     "name": "stdout",
     "output_type": "stream",
     "text": [
      "['Ariyalur' 'Chengalpattu' 'Chennai' 'Coimbatore' 'Cuddalore' 'Dharmapuri'\n",
      " 'Dindigul' 'Erode' 'Kallakkurichi' 'Kancheepuram' 'Kanniyakumari' 'Karur'\n",
      " 'Krishnagiri' 'Madurai' 'Mayiladuthurai' 'Nagapattinam' 'Namakkal'\n",
      " 'Perambalur' 'Pudukkottai' 'Ramanathapuram' 'Ranipet' 'Salem' 'Sivaganga'\n",
      " 'Tenkasi' 'Thanjavur' 'The Nilgiris' 'Theni' 'Thiruvallur' 'Thiruvarur'\n",
      " 'Thoothukkudi' 'Tiruchirappalli' 'Tirunelveli' 'Tirupathur' 'Tiruppur'\n",
      " 'Tiruvannamalai' 'Vellore' 'Viluppuram' 'Virudhunagar' 'Total(Ham)'\n",
      " 'Total (Bcm)']\n"
     ]
    }
   ],
   "source": [
    "print(df[\"district_name\"].unique())\n"
   ]
  }
 ],
 "metadata": {
  "kernelspec": {
   "display_name": "Python 3",
   "language": "python",
   "name": "python3"
  },
  "language_info": {
   "codemirror_mode": {
    "name": "ipython",
    "version": 3
   },
   "file_extension": ".py",
   "mimetype": "text/x-python",
   "name": "python",
   "nbconvert_exporter": "python",
   "pygments_lexer": "ipython3",
   "version": "3.11.9"
  }
 },
 "nbformat": 4,
 "nbformat_minor": 5
}
