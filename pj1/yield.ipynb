{
 "cells": [
  {
   "cell_type": "code",
   "execution_count": null,
   "metadata": {},
   "outputs": [],
   "source": [
    "df = pd.read_csv(\"yield.csv\")\n",
    "df.head()"
   ]
  },
  {
   "cell_type": "code",
   "execution_count": null,
   "metadata": {},
   "outputs": [],
   "source": [
    "df.dropna(inplace=True)"
   ]
  },
  {
   "cell_type": "code",
   "execution_count": null,
   "metadata": {},
   "outputs": [],
   "source": [
    "# Encode categorical variables\n",
    "from sklearn.preprocessing import StandardScaler, LabelEncoder\n",
    "label_enc_district = LabelEncoder()\n",
    "label_enc_crop = LabelEncoder()\n",
    "df['District_Code'] = label_enc_district.fit_transform(df['District_Name'])\n",
    "df['Crop_Code'] = label_enc_crop.fit_transform(df['Crop'])\n",
    "\n",
    "# Select relevant columns\n",
    "df = df[['District_Name', 'Crop', 'Area', 'Production']]  # Assuming these columns exist"
   ]
  },
  {
   "cell_type": "code",
   "execution_count": null,
   "metadata": {},
   "outputs": [],
   "source": [
    "df['Yield'] = df['Production'] / df['Area']"
   ]
  },
  {
   "cell_type": "code",
   "execution_count": null,
   "metadata": {},
   "outputs": [],
   "source": [
    "df['District_Name'] = df['District_Name'].astype(str).str.strip()\n",
    "df['Crop'] = df['Crop'].astype(str).str.strip()\n",
    "df['District_Code'] = label_enc_district.fit_transform(df['District_Name'])\n",
    "df['Crop_Code'] = label_enc_crop.fit_transform(df['Crop'])\n",
    "\n",
    "print(df.columns)  # Check available columns\n",
    "print(df.head())   # Check if 'District_Code' and 'Crop_Code' are present"
   ]
  },
  {
   "cell_type": "code",
   "execution_count": null,
   "metadata": {},
   "outputs": [],
   "source": [
    "\n",
    "# Split dataset into features and target\n",
    "X = df[['District_Code', 'Crop_Code']]\n",
    "y = df['Yield']\n"
   ]
  },
  {
   "cell_type": "code",
   "execution_count": null,
   "metadata": {},
   "outputs": [],
   "source": [
    "\n",
    "# Split into train and test sets\n",
    "X_train, X_test, y_train, y_test = train_test_split(X, y, test_size=0.2, random_state=42)\n",
    "print(df[['District_Name', 'District_Code', 'Crop', 'Crop_Code']].head())\n"
   ]
  },
  {
   "cell_type": "code",
   "execution_count": null,
   "metadata": {},
   "outputs": [],
   "source": [
    "\n",
    "# Scale features\n",
    "scaler = StandardScaler()\n",
    "X_train_scaled = scaler.fit_transform(X_train)\n",
    "X_test_scaled = scaler.transform(X_test)\n"
   ]
  },
  {
   "cell_type": "code",
   "execution_count": null,
   "metadata": {},
   "outputs": [],
   "source": [
    "from sklearn.linear_model import LinearRegression\n",
    "from sklearn.naive_bayes import GaussianNB\n",
    "from sklearn.svm import SVC\n",
    "from sklearn.neighbors import KNeighborsClassifier\n",
    "from sklearn.tree import DecisionTreeClassifier\n",
    "from sklearn.tree import ExtraTreeClassifier\n",
    "from sklearn.ensemble import RandomForestRegressor\n",
    "from sklearn.ensemble import BaggingClassifier\n",
    "from sklearn.ensemble import GradientBoostingRegressor\n",
    "from sklearn.ensemble import AdaBoostClassifier\n",
    "from sklearn.metrics import accuracy_score,confusion_matrix\n",
    "from sklearn.metrics import mean_absolute_error\n",
    "from sklearn.metrics import mean_absolute_error, mean_squared_error\n",
    "models = {\n",
    "    \"Random Forest\": RandomForestRegressor(),\n",
    "    \"Gradient Boosting\": GradientBoostingRegressor(),\n",
    "    \"Linear Regression\": LinearRegression()\n",
    "}\n",
    "\n",
    "best_model = None\n",
    "best_mae = float(\"inf\")\n",
    "\n",
    "for name, model in models.items():\n",
    "    model.fit(X_train_scaled, y_train)\n",
    "    y_pred = model.predict(X_test_scaled)\n",
    "    mae = mean_absolute_error(y_test, y_pred)\n",
    "    print(f\"{name} - Mean Absolute Error: {mae}\")\n",
    "    if mae < best_mae:\n",
    "        best_mae = mae\n",
    "        best_model = model\n",
    "\n",
    "print(f\"Best Model: {best_model}\")"
   ]
  },
  {
   "cell_type": "code",
   "execution_count": null,
   "metadata": {},
   "outputs": [],
   "source": [
    "\n",
    "\n",
    "# Train Random Forest model\n",
    "model = RandomForestRegressor()\n",
    "model.fit(X_train_scaled, y_train)\n"
   ]
  },
  {
   "cell_type": "code",
   "execution_count": null,
   "metadata": {},
   "outputs": [],
   "source": [
    "\n",
    "# Evaluate model\n",
    "y_pred = model.predict(X_test_scaled)\n",
    "\n",
    "print(\"Mean Absolute Error:\", mean_absolute_error(y_test, y_pred))\n",
    "print(\"Mean Squared Error:\", mean_squared_error(y_test, y_pred))"
   ]
  },
  {
   "cell_type": "code",
   "execution_count": null,
   "metadata": {},
   "outputs": [],
   "source": [
    "\n",
    "# Function for prediction\n",
    "def predict_yield(district_name, crop_name, area):\n",
    "    # Check if the district and crop exist in the trained encoders\n",
    "    if district_name not in label_enc_district.classes_:\n",
    "        raise ValueError(f\"District '{district_name}' not found in training data.\")\n",
    "    if crop_name not in label_enc_crop.classes_:\n",
    "        raise ValueError(f\"Crop '{crop_name}' not found in training data.\")\n",
    "    \n",
    "    # Convert district and crop names to numerical labels\n",
    "    district_num = label_enc_district.transform([district_name])[0]\n",
    "    crop_num = label_enc_crop.transform([crop_name])[0]\n",
    "    \n",
    "    # Prepare input and scale it\n",
    "    input_features = np.array([[district_num, crop_num]])\n",
    "    input_features_scaled = scaler.transform(input_features)\n",
    "    \n",
    "    # Predict yield\n",
    "    predicted_yield = model.predict(input_features_scaled)\n",
    "    return (predicted_yield[0])*area\n"
   ]
  },
  {
   "cell_type": "code",
   "execution_count": null,
   "metadata": {},
   "outputs": [],
   "source": [
    "# Save the model and scaler\n",
    "import pickle\n",
    "pickle.dump(model, open(\"yieldmodel.pkl\", \"wb\"))\n",
    "pickle.dump(scaler, open(\"scaler.pkl\", \"wb\"))"
   ]
  },
  {
   "cell_type": "code",
   "execution_count": null,
   "metadata": {},
   "outputs": [],
   "source": [
    "print(predict_yield(\"ARIYALUR\", \"Rice\",1))"
   ]
  },
  {
   "cell_type": "code",
   "execution_count": null,
   "metadata": {},
   "outputs": [],
   "source": []
  }
 ],
 "metadata": {
  "language_info": {
   "name": "python"
  }
 },
 "nbformat": 4,
 "nbformat_minor": 2
}
